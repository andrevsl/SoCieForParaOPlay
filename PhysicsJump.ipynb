{
 "cells": [
  {
   "cell_type": "markdown",
   "metadata": {},
   "source": [
    "**Hard to calculate and estimate the force/power of jump without force plates measurements, \n",
    "due to the variable force/Power/acelaration/velocity of the movement. \n",
    "The jump height inference from squat values are not too simple due to the lack or not of fast-twitch (Rate of force development) training.\n",
    "Another interesting and dificulty, it's related to running jump and standing jump physical aspects**\n",
    "\n",
    "**From energy perspective using basic physics, potential energy**\n",
    "$$E_{jump}=mgh$$\n",
    "\n",
    "**For a male with 80 kg, in order to jump 50/90 cm, it is required**\n",
    "\n",
    "$$E_{jump50}=80\\times 9.81\\times 0.5=392.4 W $$\n",
    "$$E_{jump90}=80\\times 9.81\\times 0.9=706.32 W $$\n",
    "\n",
    "\n"
   ]
  },
  {
   "cell_type": "markdown",
   "metadata": {},
   "source": [
    "**Because of the kinetic movement of the body, the body transform kinetic energy almost totally in potential energy from the resting (intial velocity equal 0)) disregarding air drag**\n",
    "$$E_{jump50}=KE_{jump50}$$\n",
    "$$E_{jump50}=\\frac{mv_{avg}^2}{2}$$\n",
    "$$v_{avg}=\\sqrt{\\frac{2\\times E_{jump50}}{m}}$$\n",
    "\n",
    "**Relating momentum and Power**\n",
    "$$Work=Fd$$\n",
    "**Impulse**\n",
    "$$I=\\Delta P= F \\Delta t =m(v_{final}-mv_{init})$$\n",
    "**Integration is not that monster, I don't know, but it is not hard**\n",
    "$$I=\\Delta P= \\sum \\int_{t_0}^{t_f} F \\Delta t$$\n",
    "\n",
    "\n",
    "**However to anayze the vertical leap, it's more meaningful in terms of Power**\n",
    "\n",
    "**Lewis Average Power**\n",
    "\n",
    "Average Power (Watts) = √ 4.9 x body mass (kg)  x √ jump-reach score (m) x 9.81 \n",
    "\n",
    "**Johnson & Bahamonde Formula**\n",
    "\n",
    "Power-peak (W) = 78.6 · VJ (cm) + 60.3 · mass (kg) - 15.3 · height (cm) - 1,308\n",
    "\n",
    "Power-avg (W) = 43.8 · VJ (cm) + 32.7 · mass (kg) - 16.8 · height (cm) + 431\n",
    "\n",
    "**Sayers Peak Anaerobic Power output**\n",
    "PAPw (Watts) = 60.7 · jump height(cm) + 45.3 · body mass(kg) - 2055"
   ]
  },
  {
   "cell_type": "code",
   "execution_count": 1,
   "metadata": {},
   "outputs": [],
   "source": [
    "import numpy as np\n",
    "import matplotlib as plt\n",
    " \n",
    "# h height in cm \n",
    "# VJ vertical jump in cm\n",
    "# BW Body Weight in kg\n",
    "def jumpPeakPower(Ref,BW,h,VJ):\n",
    "    if Ref=='Bahamonde':\n",
    "        PW= 78.6*VJ + 60.3*BW - 15.3*h - 1,308\n",
    "        return PW\n",
    "    elif Ref=='Sayer':\n",
    "        PW= 60.7*VJ+ 45.3*BW - 2055\n",
    "        return PW\n",
    "    \n",
    "def jumpAvgPower(Ref,BW,h):\n",
    "    if Ref=='Lewis':\n",
    "        PW= np.sqrt(4.9)*BW* np.sqrt(h/100)*9.81 \n",
    "        return PW\n",
    "    elif Ref=='Bahamonde':\n",
    "        PW= 43.8*h + 32.7*BW - 16.8*h + 431\n",
    "        return PW"
   ]
  },
  {
   "cell_type": "code",
   "execution_count": 6,
   "metadata": {},
   "outputs": [
    {
     "data": {
      "text/plain": [
       "706.32"
      ]
     },
     "execution_count": 6,
     "metadata": {},
     "output_type": "execute_result"
    }
   ],
   "source": [
    "BW= 80 # Body Weight mass kg\n",
    "g=9.81 # Gravitational acceleration\n",
    "VJ=50 # Vertical jump in cm\n",
    "\n",
    "# Energy\n",
    "Ejump=BW*g*VJ/100\n",
    "print('Ejump:{}',Ejump)\n",
    "\n",
    "Vmax=np.sqrt()\n",
    "\n"
   ]
  },
  {
   "cell_type": "code",
   "execution_count": null,
   "metadata": {},
   "outputs": [],
   "source": [
    "#Analalyzing the movement\n",
    "plt.plot(x, y)\n",
    "plt.xlabel(\"X-axis\")  # add X-axis label\n",
    "plt.ylabel(\"Y-axis\")  # add Y-axis label\n",
    "plt.title(\"Any suitable title\")  # add title\n",
    "plt.show()"
   ]
  },
  {
   "cell_type": "code",
   "execution_count": null,
   "metadata": {},
   "outputs": [],
   "source": []
  }
 ],
 "metadata": {
  "kernelspec": {
   "display_name": "Python 3 (ipykernel)",
   "language": "python",
   "name": "python3"
  },
  "language_info": {
   "codemirror_mode": {
    "name": "ipython",
    "version": 3
   },
   "file_extension": ".py",
   "mimetype": "text/x-python",
   "name": "python",
   "nbconvert_exporter": "python",
   "pygments_lexer": "ipython3",
   "version": "3.12.1"
  }
 },
 "nbformat": 4,
 "nbformat_minor": 2
}
