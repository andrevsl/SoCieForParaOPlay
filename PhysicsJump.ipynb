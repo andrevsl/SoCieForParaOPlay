{
 "cells": [
  {
   "cell_type": "markdown",
   "metadata": {},
   "source": [
    "**Hard to calculate and estimate the force/power of jump without force plates measurements, \n",
    "due to the variable force/Power/acelaration/velocity of the movement. \n",
    "The jump height inference from squat values are not too simple due to lack or not of fast-twitch (Rate of force development) training.**\n",
    "\n",
    "**From energy perspective using basic physics**\n",
    "$$E_{jump}=mgh$$\n",
    "\n",
    "For a male with 80 kg, in order to jump 50 cm, it is required\n",
    "\n",
    "\n",
    "$$E_{jump}=80\\times$$\n",
    "\n",
    "\n"
   ]
  },
  {
   "cell_type": "markdown",
   "metadata": {},
   "source": []
  },
  {
   "cell_type": "code",
   "execution_count": null,
   "metadata": {},
   "outputs": [],
   "source": [
    "Ejump\n",
    "Vbar=0 # Bar velocity\n",
    "RMSquat=\n",
    "\n"
   ]
  }
 ],
 "metadata": {
  "kernelspec": {
   "display_name": "Python 3",
   "language": "python",
   "name": "python3"
  },
  "language_info": {
   "codemirror_mode": {
    "name": "ipython",
    "version": 3
   },
   "file_extension": ".py",
   "mimetype": "text/x-python",
   "name": "python",
   "nbconvert_exporter": "python",
   "pygments_lexer": "ipython3",
   "version": "3.12.1"
  }
 },
 "nbformat": 4,
 "nbformat_minor": 2
}
