{
 "cells": [
  {
   "cell_type": "code",
   "execution_count": null,
   "metadata": {},
   "outputs": [],
   "source": [
    "import cv2\n",
    "\n",
    "from ultralytics import solutions\n",
    "\n",
    "cap = cv2.VideoCapture(\"path/to/video/file.mp4\")\n",
    "assert cap.isOpened(), \"Error reading video file\"\n",
    "w, h, fps = (int(cap.get(x)) for x in (cv2.CAP_PROP_FRAME_WIDTH, cv2.CAP_PROP_FRAME_HEIGHT, cv2.CAP_PROP_FPS))\n",
    "\n",
    "# Video writer\n",
    "video_writer = cv2.VideoWriter(\"workouts.avi\", cv2.VideoWriter_fourcc(*\"mp4v\"), fps, (w, h))\n",
    "\n",
    "# Init AIGym\n",
    "gym = solutions.AIGym(\n",
    "    show=True,  # Display the frame\n",
    "    kpts=[6, 8, 10],  # keypoints index of person for monitoring specific exercise, by default it's for pushup\n",
    "    model=\"yolo11n-pose.pt\",  # Path to the YOLO11 pose estimation model file\n",
    "    # line_width=2,  # Adjust the line width for bounding boxes and text display\n",
    ")\n",
    "\n",
    "# Process video\n",
    "while cap.isOpened():\n",
    "    success, im0 = cap.read()\n",
    "    if not success:\n",
    "        print(\"Video frame is empty or video processing has been successfully completed.\")\n",
    "        break\n",
    "    im0 = gym.monitor(im0)\n",
    "    video_writer.write(im0)\n",
    "\n",
    "cv2.destroyAllWindows()\n",
    "video_writer.release()"
   ]
  }
 ],
 "metadata": {
  "language_info": {
   "name": "python"
  }
 },
 "nbformat": 4,
 "nbformat_minor": 2
}
